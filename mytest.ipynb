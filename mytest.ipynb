{
 "cells": [
  {
   "cell_type": "code",
   "execution_count": 2,
   "metadata": {},
   "outputs": [
    {
     "name": "stdout",
     "output_type": "stream",
     "text": [
      "Collecting langchain_groq\n",
      "  Using cached langchain_groq-0.1.3-py3-none-any.whl.metadata (2.8 kB)\n",
      "Collecting groq<1,>=0.4.1 (from langchain_groq)\n",
      "  Using cached groq-0.5.0-py3-none-any.whl.metadata (12 kB)\n",
      "Requirement already satisfied: langchain-core<0.2.0,>=0.1.45 in c:\\users\\jquay\\desktop\\notebooks\\bhill\\langchain-env\\lib\\site-packages (from langchain_groq) (0.1.52)\n",
      "Requirement already satisfied: anyio<5,>=3.5.0 in c:\\users\\jquay\\desktop\\notebooks\\bhill\\langchain-env\\lib\\site-packages (from groq<1,>=0.4.1->langchain_groq) (4.3.0)\n",
      "Requirement already satisfied: distro<2,>=1.7.0 in c:\\users\\jquay\\desktop\\notebooks\\bhill\\langchain-env\\lib\\site-packages (from groq<1,>=0.4.1->langchain_groq) (1.9.0)\n",
      "Requirement already satisfied: httpx<1,>=0.23.0 in c:\\users\\jquay\\desktop\\notebooks\\bhill\\langchain-env\\lib\\site-packages (from groq<1,>=0.4.1->langchain_groq) (0.27.0)\n",
      "Requirement already satisfied: pydantic<3,>=1.9.0 in c:\\users\\jquay\\desktop\\notebooks\\bhill\\langchain-env\\lib\\site-packages (from groq<1,>=0.4.1->langchain_groq) (2.7.1)\n",
      "Requirement already satisfied: sniffio in c:\\users\\jquay\\desktop\\notebooks\\bhill\\langchain-env\\lib\\site-packages (from groq<1,>=0.4.1->langchain_groq) (1.3.1)\n",
      "Requirement already satisfied: typing-extensions<5,>=4.7 in c:\\users\\jquay\\desktop\\notebooks\\bhill\\langchain-env\\lib\\site-packages (from groq<1,>=0.4.1->langchain_groq) (4.11.0)\n",
      "Requirement already satisfied: PyYAML>=5.3 in c:\\users\\jquay\\desktop\\notebooks\\bhill\\langchain-env\\lib\\site-packages (from langchain-core<0.2.0,>=0.1.45->langchain_groq) (6.0.1)\n",
      "Requirement already satisfied: jsonpatch<2.0,>=1.33 in c:\\users\\jquay\\desktop\\notebooks\\bhill\\langchain-env\\lib\\site-packages (from langchain-core<0.2.0,>=0.1.45->langchain_groq) (1.33)\n",
      "Requirement already satisfied: langsmith<0.2.0,>=0.1.0 in c:\\users\\jquay\\desktop\\notebooks\\bhill\\langchain-env\\lib\\site-packages (from langchain-core<0.2.0,>=0.1.45->langchain_groq) (0.1.56)\n",
      "Requirement already satisfied: packaging<24.0,>=23.2 in c:\\users\\jquay\\desktop\\notebooks\\bhill\\langchain-env\\lib\\site-packages (from langchain-core<0.2.0,>=0.1.45->langchain_groq) (23.2)\n",
      "Requirement already satisfied: tenacity<9.0.0,>=8.1.0 in c:\\users\\jquay\\desktop\\notebooks\\bhill\\langchain-env\\lib\\site-packages (from langchain-core<0.2.0,>=0.1.45->langchain_groq) (8.3.0)\n",
      "Requirement already satisfied: idna>=2.8 in c:\\users\\jquay\\desktop\\notebooks\\bhill\\langchain-env\\lib\\site-packages (from anyio<5,>=3.5.0->groq<1,>=0.4.1->langchain_groq) (3.7)\n",
      "Requirement already satisfied: certifi in c:\\users\\jquay\\desktop\\notebooks\\bhill\\langchain-env\\lib\\site-packages (from httpx<1,>=0.23.0->groq<1,>=0.4.1->langchain_groq) (2024.2.2)\n",
      "Requirement already satisfied: httpcore==1.* in c:\\users\\jquay\\desktop\\notebooks\\bhill\\langchain-env\\lib\\site-packages (from httpx<1,>=0.23.0->groq<1,>=0.4.1->langchain_groq) (1.0.5)\n",
      "Requirement already satisfied: h11<0.15,>=0.13 in c:\\users\\jquay\\desktop\\notebooks\\bhill\\langchain-env\\lib\\site-packages (from httpcore==1.*->httpx<1,>=0.23.0->groq<1,>=0.4.1->langchain_groq) (0.14.0)\n",
      "Requirement already satisfied: jsonpointer>=1.9 in c:\\users\\jquay\\desktop\\notebooks\\bhill\\langchain-env\\lib\\site-packages (from jsonpatch<2.0,>=1.33->langchain-core<0.2.0,>=0.1.45->langchain_groq) (2.4)\n",
      "Requirement already satisfied: orjson<4.0.0,>=3.9.14 in c:\\users\\jquay\\desktop\\notebooks\\bhill\\langchain-env\\lib\\site-packages (from langsmith<0.2.0,>=0.1.0->langchain-core<0.2.0,>=0.1.45->langchain_groq) (3.10.3)\n",
      "Requirement already satisfied: requests<3,>=2 in c:\\users\\jquay\\desktop\\notebooks\\bhill\\langchain-env\\lib\\site-packages (from langsmith<0.2.0,>=0.1.0->langchain-core<0.2.0,>=0.1.45->langchain_groq) (2.31.0)\n",
      "Requirement already satisfied: annotated-types>=0.4.0 in c:\\users\\jquay\\desktop\\notebooks\\bhill\\langchain-env\\lib\\site-packages (from pydantic<3,>=1.9.0->groq<1,>=0.4.1->langchain_groq) (0.6.0)\n",
      "Requirement already satisfied: pydantic-core==2.18.2 in c:\\users\\jquay\\desktop\\notebooks\\bhill\\langchain-env\\lib\\site-packages (from pydantic<3,>=1.9.0->groq<1,>=0.4.1->langchain_groq) (2.18.2)\n",
      "Requirement already satisfied: charset-normalizer<4,>=2 in c:\\users\\jquay\\desktop\\notebooks\\bhill\\langchain-env\\lib\\site-packages (from requests<3,>=2->langsmith<0.2.0,>=0.1.0->langchain-core<0.2.0,>=0.1.45->langchain_groq) (3.3.2)\n",
      "Requirement already satisfied: urllib3<3,>=1.21.1 in c:\\users\\jquay\\desktop\\notebooks\\bhill\\langchain-env\\lib\\site-packages (from requests<3,>=2->langsmith<0.2.0,>=0.1.0->langchain-core<0.2.0,>=0.1.45->langchain_groq) (2.2.1)\n",
      "Using cached langchain_groq-0.1.3-py3-none-any.whl (11 kB)\n",
      "Using cached groq-0.5.0-py3-none-any.whl (75 kB)\n",
      "Installing collected packages: groq, langchain_groq\n",
      "Successfully installed groq-0.5.0 langchain_groq-0.1.3\n",
      "Note: you may need to restart the kernel to use updated packages.\n"
     ]
    }
   ],
   "source": [
    "%pip install langchain_groq"
   ]
  },
  {
   "cell_type": "code",
   "execution_count": 4,
   "metadata": {},
   "outputs": [
    {
     "data": {
      "text/plain": [
       "True"
      ]
     },
     "execution_count": 4,
     "metadata": {},
     "output_type": "execute_result"
    }
   ],
   "source": [
    "from langchain_groq import ChatGroq\n",
    "from langchain_core.prompts import PromptTemplate, ChatPromptTemplate  # Importing PromptTemplate and ChatPromptTemplate classes\n",
    "from langchain_core.output_parsers import PydanticOutputParser  # Importing PydanticOutputParser class for parsing outputs\n",
    "from langchain_core.messages import HumanMessage, SystemMessage  # Importing message classes for chat interactions\n",
    "from langchain_core.pydantic_v1 import BaseModel, Field  # Importing BaseModel and Field for creating Pydantic models\n",
    "from dotenv import load_dotenv  # Importing load_dotenv function to load environment variables from .env file\n",
    "load_dotenv()"
   ]
  },
  {
   "cell_type": "markdown",
   "metadata": {},
   "source": [
    "## Create LLM Instance\n",
    "\n",
    "### Prompt Template -> Parse Data -> Pass Data -> Repeat"
   ]
  },
  {
   "cell_type": "code",
   "execution_count": 7,
   "metadata": {},
   "outputs": [
    {
     "data": {
      "text/plain": [
       "AIMessage(content='What a great question!\\n\\nOne popular Afro-Asian dish that comes to mind is Suya Chicken, which is a fusion of Nigerian (Afro) and Asian (Southeast Asian-inspired) flavors.\\n\\nSuya is a popular Nigerian snack made from thinly sliced pieces of meat (usually chicken, beef, or goat) that are marinated in a mixture of spices, peanut sauce, and other ingredients, then grilled over an open flame. The dish originated in Nigeria, but its flavors have been influenced by Asian cuisine, particularly from Southeast Asia.\\n\\nIn recent years, Suya Chicken has gained popularity globally, with many restaurants and food trucks serving their own versions of this delicious dish. The Afro-Asian flavors blend beautifully, with the peanut sauce and spices adding a rich, nutty, and slightly sweet flavor profile.\\n\\nOther popular Afro-Asian dishes include:\\n\\n1. Jollof Rice with Korean chili flakes (Korean-Nigerian fusion)\\n2. Peri-peri chicken wings with a Southeast Asian twist (African-Asian fusion)\\n3. Sosatie (South African-Asian kebabs)\\n4. Fufu with Thai red curry sauce (West African-Thai fusion)\\n\\nThese dishes showcase the rich cultural exchange and culinary creativity that result from the blending of African and Asian flavors!', response_metadata={'token_usage': {'completion_time': 0.859, 'completion_tokens': 260, 'prompt_time': 0.051, 'prompt_tokens': 18, 'queue_time': None, 'total_time': 0.91, 'total_tokens': 278}, 'model_name': 'llama3-70b-8192', 'system_fingerprint': 'fp_c1a4bcec29', 'finish_reason': 'stop', 'logprobs': None}, id='run-e04010b1-0bc9-4eb0-81b7-d289ad847648-0')"
      ]
     },
     "execution_count": 7,
     "metadata": {},
     "output_type": "execute_result"
    }
   ],
   "source": [
    "llm = ChatGroq(model=\"llama3-70b-8192\")\n",
    "\n",
    "\n",
    "llm.invoke(\"What is a popular Afro-Asian dish\")"
   ]
  },
  {
   "cell_type": "markdown",
   "metadata": {},
   "source": [
    "Our goal is to develop an agent capable of determining whether a dish is vegan. \n",
    "\n",
    "First, we will determine if the dish is vegan, vegetarian, pescatarian, or non-vegetarian\n",
    "    by querying the LLM.\n",
    "\n",
    "If the dish is vegan, the bot will provide a standard recipe.\n",
    "    This will be a generic output from the LLM (future enhancements will include integrating a YouTube tool to fetch both recipes and video links).\n",
    "\n",
    "If the dish is not vegan, the bot will convert the non-vegan meal into a vegan meal\n",
    "    by identifying non-vegan ingredients in the recipe and finding vegan substitutes.\n"
   ]
  },
  {
   "cell_type": "code",
   "execution_count": null,
   "metadata": {},
   "outputs": [],
   "source": [
    "prompt_template = PromptTemplate(\n",
    "    template= \"\",\n",
    "    input_variables= \"\",\n",
    "    input_types= \"\",\n",
    "    output_parser= \"\",\n",
    "    partial_variables= \"\",\n",
    "\n",
    ")\n",
    "\n"
   ]
  }
 ],
 "metadata": {
  "kernelspec": {
   "display_name": "Langchain-Env",
   "language": "python",
   "name": "python3"
  },
  "language_info": {
   "codemirror_mode": {
    "name": "ipython",
    "version": 3
   },
   "file_extension": ".py",
   "mimetype": "text/x-python",
   "name": "python",
   "nbconvert_exporter": "python",
   "pygments_lexer": "ipython3",
   "version": "3.11.9"
  }
 },
 "nbformat": 4,
 "nbformat_minor": 2
}
